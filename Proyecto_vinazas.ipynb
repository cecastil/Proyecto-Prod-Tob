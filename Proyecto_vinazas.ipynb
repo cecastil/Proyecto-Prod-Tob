{
  "nbformat": 4,
  "nbformat_minor": 0,
  "metadata": {
    "colab": {
      "name": "Proyecto vinazas.ipynb",
      "provenance": [],
      "authorship_tag": "ABX9TyNar37B8WxCiYWg8aoGEaJt",
      "include_colab_link": true
    },
    "kernelspec": {
      "name": "python3",
      "display_name": "Python 3"
    },
    "language_info": {
      "name": "python"
    }
  },
  "cells": [
    {
      "cell_type": "markdown",
      "metadata": {
        "id": "view-in-github",
        "colab_type": "text"
      },
      "source": [
        "<a href=\"https://colab.research.google.com/github/cecastil/Proyecto-Prod-Tob/blob/main/Proyecto_vinazas.ipynb\" target=\"_parent\"><img src=\"https://colab.research.google.com/assets/colab-badge.svg\" alt=\"Open In Colab\"/></a>"
      ]
    },
    {
      "cell_type": "code",
      "source": [
        "import pandas as pd\n",
        "import numpy as np\n",
        "import matplotlib.pyplot as plt\n",
        "\n",
        "from google.colab import drive\n",
        "drive.mount('/content/drive')"
      ],
      "metadata": {
        "id": "MwIfej_SrTzX",
        "colab": {
          "base_uri": "https://localhost:8080/"
        },
        "outputId": "79d0346d-7469-44e4-ca58-3a5dc6393233"
      },
      "execution_count": null,
      "outputs": [
        {
          "output_type": "stream",
          "name": "stdout",
          "text": [
            "Mounted at /content/drive\n"
          ]
        }
      ]
    },
    {
      "cell_type": "code",
      "source": [
        "df = pd.read_excel('/content/drive/MyDrive/DataFrames/Balance PTV Hacienda FY22.xlsx',skiprows=5)\n",
        "df_filtrado= df[['AÑO','MES','VINAZA GENERADA HDA (Litros)','VINAZA A TQ ALIM DECANTER (Litros)','FLUJO PROMEDIO DECANTER EN M3/H','FLUJO PROMEDIO TOBERAS EN M3/H']]\n",
        "df_fil = df_filtrado.dropna()\n",
        "df_fil.plot(kind='scatter',x='FLUJO PROMEDIO DECANTER EN M3/H', y='FLUJO PROMEDIO TOBERAS EN M3/H')\n",
        "plt.show()"
      ],
      "metadata": {
        "id": "FqUMwBh7rmCo",
        "colab": {
          "base_uri": "https://localhost:8080/",
          "height": 279
        },
        "outputId": "e0112210-6e70-4e6c-f3c7-26d6c798748b"
      },
      "execution_count": null,
      "outputs": [
        {
          "output_type": "display_data",
          "data": {
            "image/png": "[encoded data removed]",
            "text/plain": [
              "<Figure size 432x288 with 1 Axes>"
            ]
          },
          "metadata": {
            "needs_background": "light"
          }
        }
      ]
    },
    {
      "cell_type": "code",
      "source": [
        "df_fil = df_fil.assign(PRODUCTO_TOBERA_ESPERADO=lambda x : (x['VINAZA A TQ ALIM DECANTER (Litros)']*0.95*0.6))\n",
        "df_fil = df_fil.assign(PRODUCTO_DECANTER_ESPERADO=lambda x:(x['VINAZA A TQ ALIM DECANTER (Litros)']*0.95))\n",
        "df_fil"
      ],
      "metadata": {
        "colab": {
          "base_uri": "https://localhost:8080/",
          "height": 424
        },
        "id": "pwi6tFVn5cVB",
        "outputId": "fea2d559-649a-4793-e2b1-abbff7e55786"
      },
      "execution_count": null,
      "outputs": [
        {
          "output_type": "execute_result",
          "data": {
            "text/html": [
              "\n",
              "  <div id=\"df-00beab18-57f6-408f-92f9-4de6e8cdd0da\">\n",
              "    <div class=\"colab-df-container\">\n",
              "      <div>\n",
              "<style scoped>\n",
              "    .dataframe tbody tr th:only-of-type {\n",
              "        vertical-align: middle;\n",
              "    }\n",
              "\n",
              "    .dataframe tbody tr th {\n",
              "        vertical-align: top;\n",
              "    }\n",
              "\n",
              "    .dataframe thead th {\n",
              "        text-align: right;\n",
              "    }\n",
              "</style>\n",
              "<table border=\"1\" class=\"dataframe\">\n",
              "  <thead>\n",
              "    <tr style=\"text-align: right;\">\n",
              "      <th></th>\n",
              "      <th>AÑO</th>\n",
              "      <th>MES</th>\n",
              "      <th>VINAZA GENERADA HDA (Litros)</th>\n",
              "      <th>VINAZA A TQ ALIM DECANTER (Litros)</th>\n",
              "      <th>FLUJO PROMEDIO DECANTER EN M3/H</th>\n",
              "      <th>FLUJO PROMEDIO TOBERAS EN M3/H</th>\n",
              "      <th>PRODUCTO_TOBERA_ESPERADO</th>\n",
              "      <th>PRODUCTO_DECANTER_ESPERADO</th>\n",
              "    </tr>\n",
              "  </thead>\n",
              "  <tbody>\n",
              "    <tr>\n",
              "      <th>0</th>\n",
              "      <td>2021.0</td>\n",
              "      <td>Diciembre</td>\n",
              "      <td>871200.0</td>\n",
              "      <td>987200.0</td>\n",
              "      <td>61.791667</td>\n",
              "      <td>60.083333</td>\n",
              "      <td>562704.0</td>\n",
              "      <td>937840.0</td>\n",
              "    </tr>\n",
              "    <tr>\n",
              "      <th>1</th>\n",
              "      <td>2021.0</td>\n",
              "      <td>Diciembre</td>\n",
              "      <td>977600.0</td>\n",
              "      <td>1114600.0</td>\n",
              "      <td>66.666667</td>\n",
              "      <td>63.750000</td>\n",
              "      <td>635322.0</td>\n",
              "      <td>1058870.0</td>\n",
              "    </tr>\n",
              "    <tr>\n",
              "      <th>2</th>\n",
              "      <td>2021.0</td>\n",
              "      <td>Diciembre</td>\n",
              "      <td>991400.0</td>\n",
              "      <td>1069400.0</td>\n",
              "      <td>65.708333</td>\n",
              "      <td>62.916667</td>\n",
              "      <td>609558.0</td>\n",
              "      <td>1015930.0</td>\n",
              "    </tr>\n",
              "    <tr>\n",
              "      <th>3</th>\n",
              "      <td>2021.0</td>\n",
              "      <td>Diciembre</td>\n",
              "      <td>756200.0</td>\n",
              "      <td>873200.0</td>\n",
              "      <td>55.791667</td>\n",
              "      <td>53.583333</td>\n",
              "      <td>497724.0</td>\n",
              "      <td>829540.0</td>\n",
              "    </tr>\n",
              "    <tr>\n",
              "      <th>4</th>\n",
              "      <td>2021.0</td>\n",
              "      <td>Diciembre</td>\n",
              "      <td>202900.0</td>\n",
              "      <td>168900.0</td>\n",
              "      <td>11.541667</td>\n",
              "      <td>10.750000</td>\n",
              "      <td>96273.0</td>\n",
              "      <td>160455.0</td>\n",
              "    </tr>\n",
              "    <tr>\n",
              "      <th>...</th>\n",
              "      <td>...</td>\n",
              "      <td>...</td>\n",
              "      <td>...</td>\n",
              "      <td>...</td>\n",
              "      <td>...</td>\n",
              "      <td>...</td>\n",
              "      <td>...</td>\n",
              "      <td>...</td>\n",
              "    </tr>\n",
              "    <tr>\n",
              "      <th>60</th>\n",
              "      <td>2022.0</td>\n",
              "      <td>Febrero</td>\n",
              "      <td>983570.0</td>\n",
              "      <td>1118570.0</td>\n",
              "      <td>69.958333</td>\n",
              "      <td>66.166667</td>\n",
              "      <td>637584.9</td>\n",
              "      <td>1062641.5</td>\n",
              "    </tr>\n",
              "    <tr>\n",
              "      <th>61</th>\n",
              "      <td>2022.0</td>\n",
              "      <td>Febrero</td>\n",
              "      <td>1076130.0</td>\n",
              "      <td>1174130.0</td>\n",
              "      <td>70.500000</td>\n",
              "      <td>66.833333</td>\n",
              "      <td>669254.1</td>\n",
              "      <td>1115423.5</td>\n",
              "    </tr>\n",
              "    <tr>\n",
              "      <th>62</th>\n",
              "      <td>2022.0</td>\n",
              "      <td>Febrero</td>\n",
              "      <td>1031800.0</td>\n",
              "      <td>1089800.0</td>\n",
              "      <td>67.541667</td>\n",
              "      <td>65.000000</td>\n",
              "      <td>621186.0</td>\n",
              "      <td>1035310.0</td>\n",
              "    </tr>\n",
              "    <tr>\n",
              "      <th>63</th>\n",
              "      <td>2022.0</td>\n",
              "      <td>Febrero</td>\n",
              "      <td>943100.0</td>\n",
              "      <td>1059100.0</td>\n",
              "      <td>66.500000</td>\n",
              "      <td>62.750000</td>\n",
              "      <td>603687.0</td>\n",
              "      <td>1006145.0</td>\n",
              "    </tr>\n",
              "    <tr>\n",
              "      <th>64</th>\n",
              "      <td>2022.0</td>\n",
              "      <td>Febrero</td>\n",
              "      <td>1017300.0</td>\n",
              "      <td>1075300.0</td>\n",
              "      <td>66.166667</td>\n",
              "      <td>63.541667</td>\n",
              "      <td>612921.0</td>\n",
              "      <td>1021535.0</td>\n",
              "    </tr>\n",
              "  </tbody>\n",
              "</table>\n",
              "<p>65 rows × 8 columns</p>\n",
              "</div>\n",
              "      <button class=\"colab-df-convert\" onclick=\"convertToInteractive('df-00beab18-57f6-408f-92f9-4de6e8cdd0da')\"\n",
              "              title=\"Convert this dataframe to an interactive table.\"\n",
              "              style=\"display:none;\">\n",
              "        \n",
              "  <svg xmlns=\"http://www.w3.org/2000/svg\" height=\"24px\"viewBox=\"0 0 24 24\"\n",
              "       width=\"24px\">\n",
              "    <path d=\"M0 0h24v24H0V0z\" fill=\"none\"/>\n",
              "    <path d=\"M18.56 5.44l.94 2.06.94-2.06 2.06-.94-2.06-.94-.94-2.06-.94 2.06-2.06.94zm-11 1L8.5 8.5l.94-2.06 2.06-.94-2.06-.94L8.5 2.5l-.94 2.06-2.06.94zm10 10l.94 2.06.94-2.06 2.06-.94-2.06-.94-.94-2.06-.94 2.06-2.06.94z\"/><path d=\"M17.41 7.96l-1.37-1.37c-.4-.4-.92-.59-1.43-.59-.52 0-1.04.2-1.43.59L10.3 9.45l-7.72 7.72c-.78.78-.78 2.05 0 2.83L4 21.41c.39.39.9.59 1.41.59.51 0 1.02-.2 1.41-.59l7.78-7.78 2.81-2.81c.8-.78.8-2.07 0-2.86zM5.41 20L4 18.59l7.72-7.72 1.47 1.35L5.41 20z\"/>\n",
              "  </svg>\n",
              "      </button>\n",
              "      \n",
              "  <style>\n",
              "    .colab-df-container {\n",
              "      display:flex;\n",
              "      flex-wrap:wrap;\n",
              "      gap: 12px;\n",
              "    }\n",
              "\n",
              "    .colab-df-convert {\n",
              "      background-color: #E8F0FE;\n",
              "      border: none;\n",
              "      border-radius: 50%;\n",
              "      cursor: pointer;\n",
              "      display: none;\n",
              "      fill: #1967D2;\n",
              "      height: 32px;\n",
              "      padding: 0 0 0 0;\n",
              "      width: 32px;\n",
              "    }\n",
              "\n",
              "    .colab-df-convert:hover {\n",
              "      background-color: #E2EBFA;\n",
              "      box-shadow: 0px 1px 2px rgba(60, 64, 67, 0.3), 0px 1px 3px 1px rgba(60, 64, 67, 0.15);\n",
              "      fill: #174EA6;\n",
              "    }\n",
              "\n",
              "    [theme=dark] .colab-df-convert {\n",
              "      background-color: #3B4455;\n",
              "      fill: #D2E3FC;\n",
              "    }\n",
              "\n",
              "    [theme=dark] .colab-df-convert:hover {\n",
              "      background-color: #434B5C;\n",
              "      box-shadow: 0px 1px 3px 1px rgba(0, 0, 0, 0.15);\n",
              "      filter: drop-shadow(0px 1px 2px rgba(0, 0, 0, 0.3));\n",
              "      fill: #FFFFFF;\n",
              "    }\n",
              "  </style>\n",
              "\n",
              "      <script>\n",
              "        const buttonEl =\n",
              "          document.querySelector('#df-00beab18-57f6-408f-92f9-4de6e8cdd0da button.colab-df-convert');\n",
              "        buttonEl.style.display =\n",
              "          google.colab.kernel.accessAllowed ? 'block' : 'none';\n",
              "\n",
              "        async function convertToInteractive(key) {\n",
              "          const element = document.querySelector('#df-00beab18-57f6-408f-92f9-4de6e8cdd0da');\n",
              "          const dataTable =\n",
              "            await google.colab.kernel.invokeFunction('convertToInteractive',\n",
              "                                                     [key], {});\n",
              "          if (!dataTable) return;\n",
              "\n",
              "          const docLinkHtml = 'Like what you see? Visit the ' +\n",
              "            '<a target=\"_blank\" href=https://colab.research.google.com/notebooks/data_table.ipynb>data table notebook</a>'\n",
              "            + ' to learn more about interactive tables.';\n",
              "          element.innerHTML = '';\n",
              "          dataTable['output_type'] = 'display_data';\n",
              "          await google.colab.output.renderOutput(dataTable, element);\n",
              "          const docLink = document.createElement('div');\n",
              "          docLink.innerHTML = docLinkHtml;\n",
              "          element.appendChild(docLink);\n",
              "        }\n",
              "      </script>\n",
              "    </div>\n",
              "  </div>\n",
              "  "
            ],
            "text/plain": [
              "       AÑO        MES  ...  PRODUCTO_TOBERA_ESPERADO  PRODUCTO_DECANTER_ESPERADO\n",
              "0   2021.0  Diciembre  ...                  562704.0                    937840.0\n",
              "1   2021.0  Diciembre  ...                  635322.0                   1058870.0\n",
              "2   2021.0  Diciembre  ...                  609558.0                   1015930.0\n",
              "3   2021.0  Diciembre  ...                  497724.0                    829540.0\n",
              "4   2021.0  Diciembre  ...                   96273.0                    160455.0\n",
              "..     ...        ...  ...                       ...                         ...\n",
              "60  2022.0    Febrero  ...                  637584.9                   1062641.5\n",
              "61  2022.0    Febrero  ...                  669254.1                   1115423.5\n",
              "62  2022.0    Febrero  ...                  621186.0                   1035310.0\n",
              "63  2022.0    Febrero  ...                  603687.0                   1006145.0\n",
              "64  2022.0    Febrero  ...                  612921.0                   1021535.0\n",
              "\n",
              "[65 rows x 8 columns]"
            ]
          },
          "metadata": {},
          "execution_count": 7
        }
      ]
    },
    {
      "cell_type": "code",
      "execution_count": null,
      "metadata": {
        "id": "zbKQzQcJqWuf"
      },
      "outputs": [],
      "source": [
        "\n",
        "\n"
      ]
    },
    {
      "cell_type": "code",
      "source": [
        ""
      ],
      "metadata": {
        "id": "DvQP4nxXsAUR"
      },
      "execution_count": null,
      "outputs": []
    },
    {
      "cell_type": "code",
      "source": [
        ""
      ],
      "metadata": {
        "id": "18DNtkYYsTFy"
      },
      "execution_count": null,
      "outputs": []
    }
  ]
}